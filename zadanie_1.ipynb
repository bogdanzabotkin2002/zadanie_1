{
  "nbformat": 4,
  "nbformat_minor": 0,
  "metadata": {
    "colab": {
      "provenance": [],
      "authorship_tag": "ABX9TyOzcwYi+kwlAo+leRKU7sOJ",
      "include_colab_link": true
    },
    "kernelspec": {
      "name": "python3",
      "display_name": "Python 3"
    },
    "language_info": {
      "name": "python"
    }
  },
  "cells": [
    {
      "cell_type": "markdown",
      "metadata": {
        "id": "view-in-github",
        "colab_type": "text"
      },
      "source": [
        "<a href=\"https://colab.research.google.com/github/bogdanzabotkin2002/zadanie_1/blob/main/zadanie_1.ipynb\" target=\"_parent\"><img src=\"https://colab.research.google.com/assets/colab-badge.svg\" alt=\"Open In Colab\"/></a>"
      ]
    },
    {
      "cell_type": "code",
      "execution_count": null,
      "metadata": {
        "colab": {
          "base_uri": "https://localhost:8080/"
        },
        "id": "5bcKLCfN5NMN",
        "outputId": "ca6f7d4d-f00d-4d4c-a349-91076dca1541"
      },
      "outputs": [
        {
          "output_type": "stream",
          "name": "stdout",
          "text": [
            "Название: Три товарища, Автор: Э.М. Ремарк, Год:1936, Жанр:роман\n"
          ]
        }
      ],
      "source": [
        "book = {\"author\": \"Э.М. Ремарк\", \"title\": \"Три товарища\",  \"publication_year\": 1936, \"genre\": \"роман\"}\n",
        "\n",
        "print(f\"Название: {book['title']}, Автор: {book['author']}, Год:{book['publication_year']}, Жанр:{book['genre']}\")\n",
        "\n",
        "# # сложность алгоритма линейна О(N)"
      ]
    }
  ]
}